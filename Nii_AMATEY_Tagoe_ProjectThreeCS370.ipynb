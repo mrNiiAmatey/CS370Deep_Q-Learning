{
 "cells": [
  {
   "cell_type": "markdown",
   "metadata": {},
   "source": [
    "# Treasure Hunt Game Notebook\n",
    "\n",
    "## Read and Review Your Starter Code\n",
    "The theme of this project is a popular treasure hunt game in which the player needs to find the treasure before the pirate does. While you will not be developing the entire game, you will write the part of the game that represents the intelligent agent, which is a pirate in this case. The pirate will try to find the optimal path to the treasure using deep Q-learning. \n",
    "\n",
    "You have been provided with two Python classes and this notebook to help you with this assignment. The first class, TreasureMaze.py, represents the environment, which includes a maze object defined as a matrix. The second class, GameExperience.py, stores the episodes – that is, all the states that come in between the initial state and the terminal state. This is later used by the agent for learning by experience, called \"exploration\". This notebook shows how to play a game. Your task is to complete the deep Q-learning implementation for which a skeleton implementation has been provided. The code blocks you will need to complete has #TODO as a header.\n",
    "\n",
    "First, read and review the next few code and instruction blocks to understand the code that you have been given."
   ]
  },
  {
   "cell_type": "code",
   "execution_count": 12,
   "metadata": {
    "scrolled": true
   },
   "outputs": [],
   "source": [
    "from __future__ import print_function\n",
    "import os, sys, time, datetime, json, random\n",
    "import numpy as np\n",
    "from keras.models import Sequential\n",
    "from keras.layers.core import Dense, Activation\n",
    "from keras.optimizers import SGD , Adam, RMSprop\n",
    "from keras.layers.advanced_activations import PReLU\n",
    "import matplotlib.pyplot as plt\n",
    "from TreasureMaze import TreasureMaze\n",
    "from GameExperience import GameExperience\n",
    "%matplotlib inline"
   ]
  },
  {
   "cell_type": "markdown",
   "metadata": {},
   "source": [
    "The following code block contains an 8x8 matrix that will be used as a maze object:"
   ]
  },
  {
   "cell_type": "code",
   "execution_count": 13,
   "metadata": {
    "scrolled": true
   },
   "outputs": [],
   "source": [
    "maze = np.array([\n",
    "    [ 1.,  0.,  1.,  1.,  1.,  1.,  1.,  1.],\n",
    "    [ 1.,  0.,  1.,  1.,  1.,  0.,  1.,  1.],\n",
    "    [ 1.,  1.,  1.,  1.,  0.,  1.,  0.,  1.],\n",
    "    [ 1.,  1.,  1.,  0.,  1.,  1.,  1.,  1.],\n",
    "    [ 1.,  1.,  0.,  1.,  1.,  1.,  1.,  1.],\n",
    "    [ 1.,  1.,  1.,  0.,  1.,  0.,  0.,  0.],\n",
    "    [ 1.,  1.,  1.,  0.,  1.,  1.,  1.,  1.],\n",
    "    [ 1.,  1.,  1.,  1.,  0.,  1.,  1.,  1.]\n",
    "])"
   ]
  },
  {
   "cell_type": "markdown",
   "metadata": {},
   "source": [
    "This helper function allows a visual representation of the maze object:"
   ]
  },
  {
   "cell_type": "code",
   "execution_count": 14,
   "metadata": {
    "scrolled": true
   },
   "outputs": [],
   "source": [
    "def show(qmaze):\n",
    "    plt.grid('on')\n",
    "    nrows, ncols = qmaze.maze.shape\n",
    "    ax = plt.gca()\n",
    "    ax.set_xticks(np.arange(0.5, nrows, 1))\n",
    "    ax.set_yticks(np.arange(0.5, ncols, 1))\n",
    "    ax.set_xticklabels([])\n",
    "    ax.set_yticklabels([])\n",
    "    canvas = np.copy(qmaze.maze)\n",
    "    for row,col in qmaze.visited:\n",
    "        canvas[row,col] = 0.6\n",
    "    pirate_row, pirate_col, _ = qmaze.state\n",
    "    canvas[pirate_row, pirate_col] = 0.3   # pirate cell\n",
    "    canvas[nrows-1, ncols-1] = 0.9 # treasure cell\n",
    "    img = plt.imshow(canvas, interpolation='none', cmap='gray')\n",
    "    return img"
   ]
  },
  {
   "cell_type": "markdown",
   "metadata": {},
   "source": [
    "The pirate agent can move in four directions: left, right, up, and down. \n",
    "\n",
    "While the agent primarily learns by experience through exploitation, often, the agent can choose to explore the environment to find previously undiscovered paths. This is called \"exploration\" and is defined by epsilon. This value is typically a lower value such as 0.1, which means for every ten attempts, the agent will attempt to learn by experience nine times and will randomly explore a new path one time. You are encouraged to try various values for the exploration factor and see how the algorithm performs."
   ]
  },
  {
   "cell_type": "code",
   "execution_count": 15,
   "metadata": {
    "scrolled": true
   },
   "outputs": [],
   "source": [
    "LEFT = 0\n",
    "UP = 1\n",
    "RIGHT = 2\n",
    "DOWN = 3\n",
    "\n",
    "\n",
    "# Exploration factor\n",
    "epsilon = 0.1\n",
    "\n",
    "# Actions dictionary\n",
    "actions_dict = {\n",
    "    LEFT: 'left',\n",
    "    UP: 'up',\n",
    "    RIGHT: 'right',\n",
    "    DOWN: 'down',\n",
    "}\n",
    "\n",
    "num_actions = len(actions_dict)\n"
   ]
  },
  {
   "cell_type": "markdown",
   "metadata": {},
   "source": [
    "The sample code block and output below show creating a maze object and performing one action (DOWN), which returns the reward. The resulting updated environment is visualized."
   ]
  },
  {
   "cell_type": "code",
   "execution_count": 16,
   "metadata": {
    "scrolled": true
   },
   "outputs": [
    {
     "name": "stdout",
     "output_type": "stream",
     "text": [
      "reward= -0.04\n"
     ]
    },
    {
     "data": {
      "text/plain": [
       "<matplotlib.image.AxesImage at 0x2620a688b48>"
      ]
     },
     "execution_count": 16,
     "metadata": {},
     "output_type": "execute_result"
    },
    {
     "data": {
      "image/png": "[encoded data removed]",
      "text/plain": [
       "<Figure size 432x288 with 1 Axes>"
      ]
     },
     "metadata": {
      "needs_background": "light"
     },
     "output_type": "display_data"
    }
   ],
   "source": [
    "qmaze = TreasureMaze(maze)\n",
    "canvas, reward, game_over = qmaze.act(DOWN)\n",
    "print(\"reward=\", reward)\n",
    "show(qmaze)"
   ]
  },
  {
   "cell_type": "markdown",
   "metadata": {},
   "source": [
    "This function simulates a full game based on the provided trained model. The other parameters include the TreasureMaze object and the starting position of the pirate."
   ]
  },
  {
   "cell_type": "code",
   "execution_count": 17,
   "metadata": {
    "scrolled": true
   },
   "outputs": [],
   "source": [
    "def play_game(model, qmaze, pirate_cell):\n",
    "    qmaze.reset(pirate_cell)\n",
    "    envstate = qmaze.observe()\n",
    "    while True:\n",
    "        prev_envstate = envstate\n",
    "        # get next action\n",
    "        q = model.predict(prev_envstate)\n",
    "        action = np.argmax(q[0])\n",
    "\n",
    "        # apply action, get rewards and new state\n",
    "        envstate, reward, game_status = qmaze.act(action)\n",
    "        if game_status == 'win':\n",
    "            return True\n",
    "        elif game_status == 'lose':\n",
    "            return False"
   ]
  },
  {
   "cell_type": "markdown",
   "metadata": {},
   "source": [
    "This function helps you to determine whether the pirate can win any game at all. If your maze is not well designed, the pirate may not win any game at all. In this case, your training would not yield any result. The provided maze in this notebook ensures that there is a path to win and you can run this method to check."
   ]
  },
  {
   "cell_type": "code",
   "execution_count": 18,
   "metadata": {
    "scrolled": true
   },
   "outputs": [],
   "source": [
    "def completion_check(model, qmaze):\n",
    "    for cell in qmaze.free_cells:\n",
    "        if not qmaze.valid_actions(cell):\n",
    "            return False\n",
    "        if not play_game(model, qmaze, cell):\n",
    "            return False\n",
    "    return True"
   ]
  },
  {
   "cell_type": "markdown",
   "metadata": {},
   "source": [
    "The code you have been given in this block will build the neural network model. Review the code and note the number of layers, as well as the activation, optimizer, and loss functions that are used to train the model."
   ]
  },
  {
   "cell_type": "code",
   "execution_count": 19,
   "metadata": {
    "scrolled": true
   },
   "outputs": [],
   "source": [
    "def build_model(maze):\n",
    "    model = Sequential()\n",
    "    model.add(Dense(maze.size, input_shape=(maze.size,)))\n",
    "    model.add(PReLU())\n",
    "    model.add(Dense(maze.size))\n",
    "    model.add(PReLU())\n",
    "    model.add(Dense(num_actions))\n",
    "    model.compile(optimizer='adam', loss='mse')\n",
    "    return model"
   ]
  },
  {
   "cell_type": "markdown",
   "metadata": {},
   "source": [
    "# #TODO: Complete the Q-Training Algorithm Code Block\n",
    "\n",
    "This is your deep Q-learning implementation. The goal of your deep Q-learning implementation is to find the best possible navigation sequence that results in reaching the treasure cell while maximizing the reward. In your implementation, you need to determine the optimal number of epochs to achieve a 100% win rate.\n",
    "\n",
    "You will need to complete the section starting with #pseudocode. The pseudocode has been included for you."
   ]
  },
  {
   "cell_type": "code",
   "execution_count": 20,
   "metadata": {
    "scrolled": true
   },
   "outputs": [],
   "source": [
    "def qtrain(model, maze, **opt):\n",
    "\n",
    "    # exploration factor\n",
    "    global epsilon \n",
    "\n",
    "    # number of epochs\n",
    "    n_epoch = opt.get('n_epoch', 15000)\n",
    "\n",
    "    # maximum memory to store episodes\n",
    "    max_memory = opt.get('max_memory', 1000)\n",
    "\n",
    "    # maximum data size for training\n",
    "    data_size = opt.get('data_size', 50)\n",
    "\n",
    "\n",
    "    # start time\n",
    "    start_time = datetime.datetime.now()\n",
    "\n",
    "    # Construct environment/game from numpy array: maze (see above)\n",
    "    qmaze = TreasureMaze(maze)\n",
    "\n",
    "    # Initialize experience replay object\n",
    "    experience = GameExperience(model, max_memory=max_memory)\n",
    "    \n",
    "    win_history = []   # history of win/lose game\n",
    "    hsize = qmaze.maze.size//2   # history window size\n",
    "    win_rate = 0.0\n",
    "    \n",
    "    for epoch in range(n_epoch):\n",
    "        # Randomly select a free cell to start the agent\n",
    "        # (Using maze dimensions to select a valid starting coordinate)\n",
    "        agent_cell = np.random.randint(0, high=qmaze.maze.shape[0], size=2)\n",
    "        # Reset the game with the agent at the randomly selected cell.\n",
    "        # (Convert agent_cell from an array to a tuple for consistency)\n",
    "        qmaze.reset(tuple(agent_cell))\n",
    "        envstate = qmaze.observe()\n",
    "        loss = 0\n",
    "        n_episodes = 0\n",
    "\n",
    "        # Let the agent interact until the game is over.\n",
    "        while qmaze.game_status() == 'not_over':\n",
    "            previous_envstate = envstate\n",
    "            valid_actions = qmaze.valid_actions()\n",
    "\n",
    "            # Choose next action: explore with probability epsilon,\n",
    "            # otherwise exploit using the model's prediction.\n",
    "            if np.random.rand() < epsilon:\n",
    "                action = random.choice(valid_actions)\n",
    "            else:\n",
    "                action = np.argmax(experience.predict(envstate))\n",
    "\n",
    "            # Execute the action in the environment\n",
    "            envstate, reward, game_status = qmaze.act(action)\n",
    "            n_episodes += 1\n",
    "\n",
    "            # Record the experience\n",
    "            episode = [previous_envstate, action, reward, envstate, game_status]\n",
    "            experience.remember(episode)\n",
    "\n",
    "            # Retrieve training data from memory and train the model\n",
    "            inputs, targets = experience.get_data(data_size)\n",
    "            history = model.fit(inputs, targets, epochs=8, batch_size=24, verbose=0)\n",
    "            loss = model.evaluate(inputs, targets, verbose=0)\n",
    "\n",
    "            # Update win history if game is won or lost\n",
    "            if game_status == 'win':\n",
    "                win_history.append(1)\n",
    "                win_rate = sum(win_history) / len(win_history)\n",
    "                break\n",
    "            elif game_status == 'lose':\n",
    "                win_history.append(0)\n",
    "                win_rate = sum(win_history) / len(win_history)\n",
    "                break\n",
    "\n",
    "    #Print the epoch, loss, episodes, win count, and win rate for each epoch\n",
    "        dt = datetime.datetime.now() - start_time\n",
    "        t = format_time(dt.total_seconds())\n",
    "        template = \"Epoch: {:03d}/{:d} | Loss: {:.4f} | Episodes: {:d} | Win count: {:d} | Win rate: {:.3f} | time: {}\"\n",
    "        print(template.format(epoch, n_epoch-1, loss, n_episodes, sum(win_history), win_rate, t))\n",
    "        # We simply check if training has exhausted all free cells and if in all\n",
    "        # cases the agent won.\n",
    "        if win_rate > 0.9 : epsilon = 0.05\n",
    "        if sum(win_history[-hsize:]) == hsize and completion_check(model, qmaze):\n",
    "            print(\"Reached 100%% win rate at epoch: %d\" % (epoch,))\n",
    "            break\n",
    "    \n",
    "    \n",
    "    # Determine the total time for training\n",
    "    dt = datetime.datetime.now() - start_time\n",
    "    seconds = dt.total_seconds()\n",
    "    t = format_time(seconds)\n",
    "\n",
    "    print(\"n_epoch: %d, max_mem: %d, data: %d, time: %s\" % (epoch, max_memory, data_size, t))\n",
    "    return seconds\n",
    "\n",
    "# This is a small utility for printing readable time strings:\n",
    "def format_time(seconds):\n",
    "    if seconds < 400:\n",
    "        s = float(seconds)\n",
    "        return \"%.1f seconds\" % (s,)\n",
    "    elif seconds < 4000:\n",
    "        m = seconds / 60.0\n",
    "        return \"%.2f minutes\" % (m,)\n",
    "    else:\n",
    "        h = seconds / 3600.0\n",
    "        return \"%.2f hours\" % (h,)"
   ]
  },
  {
   "cell_type": "markdown",
   "metadata": {},
   "source": [
    "## Test Your Model\n",
    "\n",
    "Now we will start testing the deep Q-learning implementation. To begin, select **Cell**, then **Run All** from the menu bar. This will run your notebook. As it runs, you should see output begin to appear beneath the next few cells. The code below creates an instance of TreasureMaze."
   ]
  },
  {
   "cell_type": "code",
   "execution_count": 21,
   "metadata": {
    "scrolled": true
   },
   "outputs": [
    {
     "data": {
      "text/plain": [
       "<matplotlib.image.AxesImage at 0x2620a6c68c8>"
      ]
     },
     "execution_count": 21,
     "metadata": {},
     "output_type": "execute_result"
    },
    {
     "data": {
      "image/png": "[encoded data removed]",
      "text/plain": [
       "<Figure size 432x288 with 1 Axes>"
      ]
     },
     "metadata": {
      "needs_background": "light"
     },
     "output_type": "display_data"
    }
   ],
   "source": [
    "qmaze = TreasureMaze(maze)\n",
    "show(qmaze)"
   ]
  },
  {
   "cell_type": "markdown",
   "metadata": {},
   "source": [
    "In the next code block, you will build your model and train it using deep Q-learning. Note: This step takes several minutes to fully run."
   ]
  },
  {
   "cell_type": "code",
   "execution_count": 22,
   "metadata": {
    "scrolled": true
   },
   "outputs": [
    {
     "name": "stdout",
     "output_type": "stream",
     "text": [
      "Epoch: 000/14999 | Loss: 0.0007 | Episodes: 139 | Win count: 0 | Win rate: 0.000 | time: 15.2 seconds\n",
      "Epoch: 001/14999 | Loss: 0.0007 | Episodes: 139 | Win count: 0 | Win rate: 0.000 | time: 31.8 seconds\n",
      "Epoch: 002/14999 | Loss: 0.0005 | Episodes: 142 | Win count: 0 | Win rate: 0.000 | time: 49.0 seconds\n",
      "Epoch: 003/14999 | Loss: 0.0004 | Episodes: 138 | Win count: 0 | Win rate: 0.000 | time: 65.7 seconds\n",
      "Epoch: 004/14999 | Loss: 0.0002 | Episodes: 128 | Win count: 1 | Win rate: 0.200 | time: 79.9 seconds\n",
      "Epoch: 005/14999 | Loss: 0.0009 | Episodes: 92 | Win count: 2 | Win rate: 0.333 | time: 90.1 seconds\n",
      "Epoch: 006/14999 | Loss: 0.0010 | Episodes: 111 | Win count: 3 | Win rate: 0.429 | time: 102.9 seconds\n",
      "Epoch: 007/14999 | Loss: 0.0021 | Episodes: 27 | Win count: 4 | Win rate: 0.500 | time: 105.8 seconds\n",
      "Epoch: 008/14999 | Loss: 0.0009 | Episodes: 134 | Win count: 4 | Win rate: 0.444 | time: 121.4 seconds\n",
      "Epoch: 009/14999 | Loss: 0.0006 | Episodes: 24 | Win count: 5 | Win rate: 0.500 | time: 124.1 seconds\n",
      "Epoch: 010/14999 | Loss: 0.0012 | Episodes: 11 | Win count: 6 | Win rate: 0.545 | time: 125.4 seconds\n",
      "Epoch: 011/14999 | Loss: 0.0012 | Episodes: 138 | Win count: 6 | Win rate: 0.500 | time: 141.5 seconds\n",
      "Epoch: 012/14999 | Loss: 0.0006 | Episodes: 134 | Win count: 6 | Win rate: 0.462 | time: 156.8 seconds\n",
      "Epoch: 013/14999 | Loss: 0.0002 | Episodes: 138 | Win count: 6 | Win rate: 0.429 | time: 172.7 seconds\n",
      "Epoch: 014/14999 | Loss: 0.0004 | Episodes: 136 | Win count: 6 | Win rate: 0.400 | time: 188.6 seconds\n",
      "Epoch: 015/14999 | Loss: 0.0011 | Episodes: 143 | Win count: 6 | Win rate: 0.375 | time: 206.3 seconds\n",
      "Epoch: 016/14999 | Loss: 0.0006 | Episodes: 139 | Win count: 6 | Win rate: 0.353 | time: 223.0 seconds\n",
      "Epoch: 017/14999 | Loss: 0.0009 | Episodes: 143 | Win count: 6 | Win rate: 0.333 | time: 239.4 seconds\n",
      "Epoch: 018/14999 | Loss: 0.0093 | Episodes: 39 | Win count: 7 | Win rate: 0.368 | time: 243.9 seconds\n",
      "Epoch: 019/14999 | Loss: 0.0006 | Episodes: 141 | Win count: 7 | Win rate: 0.350 | time: 260.0 seconds\n",
      "Epoch: 020/14999 | Loss: 0.0012 | Episodes: 144 | Win count: 7 | Win rate: 0.333 | time: 277.1 seconds\n",
      "Epoch: 021/14999 | Loss: 0.0006 | Episodes: 93 | Win count: 8 | Win rate: 0.364 | time: 288.2 seconds\n",
      "Epoch: 022/14999 | Loss: 0.0010 | Episodes: 139 | Win count: 8 | Win rate: 0.348 | time: 305.2 seconds\n",
      "Epoch: 023/14999 | Loss: 0.0017 | Episodes: 150 | Win count: 8 | Win rate: 0.333 | time: 324.0 seconds\n",
      "Epoch: 024/14999 | Loss: 0.0010 | Episodes: 142 | Win count: 8 | Win rate: 0.320 | time: 341.8 seconds\n",
      "Epoch: 025/14999 | Loss: 0.0011 | Episodes: 6 | Win count: 9 | Win rate: 0.346 | time: 342.6 seconds\n",
      "Epoch: 026/14999 | Loss: 0.0021 | Episodes: 98 | Win count: 10 | Win rate: 0.370 | time: 354.1 seconds\n",
      "Epoch: 027/14999 | Loss: 0.0007 | Episodes: 76 | Win count: 11 | Win rate: 0.393 | time: 363.1 seconds\n",
      "Epoch: 028/14999 | Loss: 0.0010 | Episodes: 9 | Win count: 12 | Win rate: 0.414 | time: 364.4 seconds\n",
      "Epoch: 029/14999 | Loss: 0.0005 | Episodes: 22 | Win count: 13 | Win rate: 0.433 | time: 367.1 seconds\n",
      "Epoch: 030/14999 | Loss: 0.0006 | Episodes: 6 | Win count: 14 | Win rate: 0.452 | time: 367.8 seconds\n",
      "Epoch: 031/14999 | Loss: 0.0007 | Episodes: 27 | Win count: 15 | Win rate: 0.469 | time: 370.8 seconds\n",
      "Epoch: 032/14999 | Loss: 0.0006 | Episodes: 10 | Win count: 16 | Win rate: 0.485 | time: 372.0 seconds\n",
      "Epoch: 033/14999 | Loss: 0.0009 | Episodes: 8 | Win count: 17 | Win rate: 0.500 | time: 372.9 seconds\n",
      "Epoch: 034/14999 | Loss: 0.0009 | Episodes: 139 | Win count: 17 | Win rate: 0.486 | time: 389.2 seconds\n",
      "Epoch: 035/14999 | Loss: 0.0004 | Episodes: 112 | Win count: 18 | Win rate: 0.500 | time: 6.69 minutes\n",
      "Epoch: 036/14999 | Loss: 0.0009 | Episodes: 1 | Win count: 19 | Win rate: 0.514 | time: 6.69 minutes\n",
      "Epoch: 037/14999 | Loss: 0.0008 | Episodes: 114 | Win count: 20 | Win rate: 0.526 | time: 6.92 minutes\n",
      "Epoch: 038/14999 | Loss: 0.0011 | Episodes: 143 | Win count: 20 | Win rate: 0.513 | time: 7.20 minutes\n",
      "Epoch: 039/14999 | Loss: 0.0005 | Episodes: 145 | Win count: 20 | Win rate: 0.500 | time: 7.47 minutes\n",
      "Epoch: 040/14999 | Loss: 0.0007 | Episodes: 150 | Win count: 20 | Win rate: 0.488 | time: 7.75 minutes\n",
      "Epoch: 041/14999 | Loss: 0.0003 | Episodes: 136 | Win count: 20 | Win rate: 0.476 | time: 8.02 minutes\n",
      "Epoch: 042/14999 | Loss: 0.0007 | Episodes: 40 | Win count: 21 | Win rate: 0.488 | time: 8.10 minutes\n",
      "Epoch: 043/14999 | Loss: 0.0010 | Episodes: 36 | Win count: 22 | Win rate: 0.500 | time: 8.16 minutes\n",
      "Epoch: 044/14999 | Loss: 0.0007 | Episodes: 1 | Win count: 23 | Win rate: 0.511 | time: 8.17 minutes\n",
      "Epoch: 045/14999 | Loss: 0.0010 | Episodes: 139 | Win count: 23 | Win rate: 0.500 | time: 8.43 minutes\n",
      "Epoch: 046/14999 | Loss: 0.0005 | Episodes: 4 | Win count: 24 | Win rate: 0.511 | time: 8.44 minutes\n",
      "Epoch: 047/14999 | Loss: 0.0007 | Episodes: 9 | Win count: 25 | Win rate: 0.521 | time: 8.46 minutes\n",
      "Epoch: 048/14999 | Loss: 0.0008 | Episodes: 143 | Win count: 25 | Win rate: 0.510 | time: 8.74 minutes\n",
      "Epoch: 049/14999 | Loss: 0.0012 | Episodes: 142 | Win count: 25 | Win rate: 0.500 | time: 9.01 minutes\n",
      "Epoch: 050/14999 | Loss: 0.0007 | Episodes: 14 | Win count: 26 | Win rate: 0.510 | time: 9.03 minutes\n",
      "Epoch: 051/14999 | Loss: 0.0008 | Episodes: 2 | Win count: 27 | Win rate: 0.519 | time: 9.04 minutes\n",
      "Epoch: 052/14999 | Loss: 0.0013 | Episodes: 17 | Win count: 28 | Win rate: 0.528 | time: 9.07 minutes\n",
      "Epoch: 053/14999 | Loss: 0.0009 | Episodes: 8 | Win count: 29 | Win rate: 0.537 | time: 9.09 minutes\n",
      "Epoch: 054/14999 | Loss: 0.0010 | Episodes: 9 | Win count: 30 | Win rate: 0.545 | time: 9.11 minutes\n",
      "Epoch: 055/14999 | Loss: 0.0005 | Episodes: 4 | Win count: 31 | Win rate: 0.554 | time: 9.11 minutes\n",
      "Epoch: 056/14999 | Loss: 0.0005 | Episodes: 144 | Win count: 31 | Win rate: 0.544 | time: 9.39 minutes\n",
      "Epoch: 057/14999 | Loss: 0.0014 | Episodes: 143 | Win count: 31 | Win rate: 0.534 | time: 9.66 minutes\n",
      "Epoch: 058/14999 | Loss: 0.0004 | Episodes: 20 | Win count: 32 | Win rate: 0.542 | time: 9.70 minutes\n",
      "Epoch: 059/14999 | Loss: 0.0008 | Episodes: 7 | Win count: 33 | Win rate: 0.550 | time: 9.71 minutes\n",
      "Epoch: 060/14999 | Loss: 0.0012 | Episodes: 96 | Win count: 34 | Win rate: 0.557 | time: 9.89 minutes\n",
      "Epoch: 061/14999 | Loss: 0.0010 | Episodes: 141 | Win count: 34 | Win rate: 0.548 | time: 10.20 minutes\n",
      "Epoch: 062/14999 | Loss: 0.0003 | Episodes: 39 | Win count: 35 | Win rate: 0.556 | time: 10.28 minutes\n",
      "Epoch: 063/14999 | Loss: 0.0012 | Episodes: 42 | Win count: 36 | Win rate: 0.562 | time: 10.37 minutes\n",
      "Epoch: 064/14999 | Loss: 0.0008 | Episodes: 75 | Win count: 37 | Win rate: 0.569 | time: 10.52 minutes\n",
      "Epoch: 065/14999 | Loss: 0.0010 | Episodes: 138 | Win count: 37 | Win rate: 0.561 | time: 10.79 minutes\n",
      "Epoch: 066/14999 | Loss: 0.0011 | Episodes: 30 | Win count: 38 | Win rate: 0.567 | time: 10.85 minutes\n",
      "Epoch: 067/14999 | Loss: 0.0004 | Episodes: 38 | Win count: 39 | Win rate: 0.574 | time: 10.92 minutes\n",
      "Epoch: 068/14999 | Loss: 0.0005 | Episodes: 135 | Win count: 39 | Win rate: 0.565 | time: 11.19 minutes\n",
      "Epoch: 069/14999 | Loss: 0.0009 | Episodes: 22 | Win count: 40 | Win rate: 0.571 | time: 11.23 minutes\n",
      "Epoch: 070/14999 | Loss: 0.0012 | Episodes: 22 | Win count: 41 | Win rate: 0.577 | time: 11.27 minutes\n",
      "Epoch: 071/14999 | Loss: 0.0009 | Episodes: 12 | Win count: 42 | Win rate: 0.583 | time: 11.29 minutes\n",
      "Epoch: 072/14999 | Loss: 0.0009 | Episodes: 20 | Win count: 43 | Win rate: 0.589 | time: 11.33 minutes\n",
      "Epoch: 073/14999 | Loss: 0.0005 | Episodes: 129 | Win count: 44 | Win rate: 0.595 | time: 11.57 minutes\n",
      "Epoch: 074/14999 | Loss: 0.0012 | Episodes: 11 | Win count: 45 | Win rate: 0.600 | time: 11.59 minutes\n",
      "Epoch: 075/14999 | Loss: 0.0006 | Episodes: 151 | Win count: 45 | Win rate: 0.592 | time: 11.87 minutes\n",
      "Epoch: 076/14999 | Loss: 0.0007 | Episodes: 153 | Win count: 45 | Win rate: 0.584 | time: 12.18 minutes\n",
      "Epoch: 077/14999 | Loss: 0.0007 | Episodes: 77 | Win count: 46 | Win rate: 0.590 | time: 12.32 minutes\n",
      "Epoch: 078/14999 | Loss: 0.0006 | Episodes: 3 | Win count: 47 | Win rate: 0.595 | time: 12.33 minutes\n",
      "Epoch: 079/14999 | Loss: 0.0008 | Episodes: 27 | Win count: 48 | Win rate: 0.600 | time: 12.38 minutes\n",
      "Epoch: 080/14999 | Loss: 0.0005 | Episodes: 3 | Win count: 49 | Win rate: 0.605 | time: 12.38 minutes\n",
      "Epoch: 081/14999 | Loss: 0.0007 | Episodes: 20 | Win count: 50 | Win rate: 0.610 | time: 12.43 minutes\n",
      "Epoch: 082/14999 | Loss: 0.0006 | Episodes: 12 | Win count: 51 | Win rate: 0.614 | time: 12.45 minutes\n",
      "Epoch: 083/14999 | Loss: 0.0002 | Episodes: 5 | Win count: 52 | Win rate: 0.619 | time: 12.47 minutes\n",
      "Epoch: 084/14999 | Loss: 0.0008 | Episodes: 21 | Win count: 53 | Win rate: 0.624 | time: 12.51 minutes\n",
      "Epoch: 085/14999 | Loss: 0.0009 | Episodes: 14 | Win count: 54 | Win rate: 0.628 | time: 12.53 minutes\n",
      "Epoch: 086/14999 | Loss: 0.0011 | Episodes: 25 | Win count: 55 | Win rate: 0.632 | time: 12.59 minutes\n",
      "Epoch: 087/14999 | Loss: 0.0004 | Episodes: 15 | Win count: 56 | Win rate: 0.636 | time: 12.62 minutes\n",
      "Epoch: 088/14999 | Loss: 0.0006 | Episodes: 45 | Win count: 57 | Win rate: 0.640 | time: 12.71 minutes\n",
      "Epoch: 089/14999 | Loss: 0.0013 | Episodes: 146 | Win count: 57 | Win rate: 0.633 | time: 13.02 minutes\n",
      "Epoch: 090/14999 | Loss: 0.0007 | Episodes: 4 | Win count: 58 | Win rate: 0.637 | time: 13.03 minutes\n",
      "Epoch: 091/14999 | Loss: 0.0012 | Episodes: 8 | Win count: 59 | Win rate: 0.641 | time: 13.05 minutes\n",
      "Epoch: 092/14999 | Loss: 0.0008 | Episodes: 3 | Win count: 60 | Win rate: 0.645 | time: 13.06 minutes\n",
      "Epoch: 093/14999 | Loss: 0.0012 | Episodes: 40 | Win count: 61 | Win rate: 0.649 | time: 13.13 minutes\n",
      "Epoch: 094/14999 | Loss: 0.0007 | Episodes: 21 | Win count: 62 | Win rate: 0.653 | time: 13.18 minutes\n",
      "Epoch: 095/14999 | Loss: 0.0005 | Episodes: 141 | Win count: 62 | Win rate: 0.646 | time: 13.44 minutes\n",
      "Epoch: 096/14999 | Loss: 0.0007 | Episodes: 57 | Win count: 63 | Win rate: 0.649 | time: 13.56 minutes\n",
      "Epoch: 097/14999 | Loss: 0.0008 | Episodes: 52 | Win count: 64 | Win rate: 0.653 | time: 13.65 minutes\n",
      "Epoch: 098/14999 | Loss: 0.0008 | Episodes: 13 | Win count: 65 | Win rate: 0.657 | time: 13.68 minutes\n",
      "Epoch: 099/14999 | Loss: 0.0007 | Episodes: 141 | Win count: 65 | Win rate: 0.650 | time: 13.95 minutes\n",
      "Epoch: 100/14999 | Loss: 0.0013 | Episodes: 18 | Win count: 66 | Win rate: 0.653 | time: 13.99 minutes\n",
      "Epoch: 101/14999 | Loss: 0.0005 | Episodes: 49 | Win count: 67 | Win rate: 0.657 | time: 14.08 minutes\n",
      "Epoch: 102/14999 | Loss: 0.0007 | Episodes: 28 | Win count: 68 | Win rate: 0.660 | time: 14.15 minutes\n",
      "Epoch: 103/14999 | Loss: 0.0005 | Episodes: 1 | Win count: 69 | Win rate: 0.663 | time: 14.15 minutes\n",
      "Epoch: 104/14999 | Loss: 0.0004 | Episodes: 27 | Win count: 70 | Win rate: 0.667 | time: 14.21 minutes\n",
      "Epoch: 105/14999 | Loss: 0.0008 | Episodes: 11 | Win count: 71 | Win rate: 0.670 | time: 14.23 minutes\n",
      "Epoch: 106/14999 | Loss: 0.0006 | Episodes: 20 | Win count: 72 | Win rate: 0.673 | time: 14.26 minutes\n",
      "Epoch: 107/14999 | Loss: 0.0005 | Episodes: 4 | Win count: 73 | Win rate: 0.676 | time: 14.27 minutes\n",
      "Epoch: 108/14999 | Loss: 0.0010 | Episodes: 63 | Win count: 74 | Win rate: 0.679 | time: 14.39 minutes\n",
      "Epoch: 109/14999 | Loss: 0.0005 | Episodes: 1 | Win count: 75 | Win rate: 0.682 | time: 14.39 minutes\n",
      "Epoch: 110/14999 | Loss: 0.0009 | Episodes: 44 | Win count: 76 | Win rate: 0.685 | time: 14.47 minutes\n",
      "Epoch: 111/14999 | Loss: 0.0006 | Episodes: 21 | Win count: 77 | Win rate: 0.688 | time: 14.51 minutes\n",
      "Epoch: 112/14999 | Loss: 0.0009 | Episodes: 6 | Win count: 78 | Win rate: 0.690 | time: 14.52 minutes\n",
      "Epoch: 113/14999 | Loss: 0.0007 | Episodes: 18 | Win count: 79 | Win rate: 0.693 | time: 14.55 minutes\n",
      "Epoch: 114/14999 | Loss: 0.0011 | Episodes: 43 | Win count: 80 | Win rate: 0.696 | time: 14.63 minutes\n",
      "Epoch: 115/14999 | Loss: 0.0009 | Episodes: 77 | Win count: 81 | Win rate: 0.698 | time: 14.78 minutes\n",
      "Epoch: 116/14999 | Loss: 0.0005 | Episodes: 39 | Win count: 82 | Win rate: 0.701 | time: 14.86 minutes\n",
      "Epoch: 117/14999 | Loss: 0.0008 | Episodes: 62 | Win count: 83 | Win rate: 0.703 | time: 14.97 minutes\n",
      "Epoch: 118/14999 | Loss: 0.0013 | Episodes: 23 | Win count: 84 | Win rate: 0.706 | time: 15.02 minutes\n",
      "Epoch: 119/14999 | Loss: 0.0007 | Episodes: 1 | Win count: 85 | Win rate: 0.708 | time: 15.02 minutes\n",
      "Epoch: 120/14999 | Loss: 0.0011 | Episodes: 37 | Win count: 86 | Win rate: 0.711 | time: 15.09 minutes\n",
      "Epoch: 121/14999 | Loss: 0.0007 | Episodes: 40 | Win count: 87 | Win rate: 0.713 | time: 15.16 minutes\n",
      "Epoch: 122/14999 | Loss: 0.0007 | Episodes: 46 | Win count: 88 | Win rate: 0.715 | time: 15.25 minutes\n",
      "Epoch: 123/14999 | Loss: 0.0006 | Episodes: 141 | Win count: 88 | Win rate: 0.710 | time: 15.54 minutes\n",
      "Epoch: 124/14999 | Loss: 0.0009 | Episodes: 23 | Win count: 89 | Win rate: 0.712 | time: 15.58 minutes\n",
      "Epoch: 125/14999 | Loss: 0.0007 | Episodes: 34 | Win count: 90 | Win rate: 0.714 | time: 15.65 minutes\n",
      "Epoch: 126/14999 | Loss: 0.0008 | Episodes: 7 | Win count: 91 | Win rate: 0.717 | time: 15.66 minutes\n",
      "Epoch: 127/14999 | Loss: 0.0008 | Episodes: 57 | Win count: 92 | Win rate: 0.719 | time: 15.77 minutes\n",
      "Epoch: 128/14999 | Loss: 0.0005 | Episodes: 8 | Win count: 93 | Win rate: 0.721 | time: 15.79 minutes\n",
      "Epoch: 129/14999 | Loss: 0.0008 | Episodes: 29 | Win count: 94 | Win rate: 0.723 | time: 15.85 minutes\n",
      "Epoch: 130/14999 | Loss: 0.0009 | Episodes: 15 | Win count: 95 | Win rate: 0.725 | time: 15.87 minutes\n",
      "Epoch: 131/14999 | Loss: 0.0005 | Episodes: 21 | Win count: 96 | Win rate: 0.727 | time: 15.92 minutes\n",
      "Epoch: 132/14999 | Loss: 0.0009 | Episodes: 19 | Win count: 97 | Win rate: 0.729 | time: 15.95 minutes\n",
      "Epoch: 133/14999 | Loss: 0.0005 | Episodes: 11 | Win count: 98 | Win rate: 0.731 | time: 15.98 minutes\n",
      "Epoch: 134/14999 | Loss: 0.0005 | Episodes: 23 | Win count: 99 | Win rate: 0.733 | time: 16.02 minutes\n",
      "Epoch: 135/14999 | Loss: 0.0009 | Episodes: 12 | Win count: 100 | Win rate: 0.735 | time: 16.04 minutes\n",
      "Epoch: 136/14999 | Loss: 0.0002 | Episodes: 13 | Win count: 101 | Win rate: 0.737 | time: 16.06 minutes\n",
      "Epoch: 137/14999 | Loss: 0.0004 | Episodes: 48 | Win count: 102 | Win rate: 0.739 | time: 16.15 minutes\n",
      "Epoch: 138/14999 | Loss: 0.0006 | Episodes: 1 | Win count: 103 | Win rate: 0.741 | time: 16.16 minutes\n",
      "Epoch: 139/14999 | Loss: 0.0005 | Episodes: 28 | Win count: 104 | Win rate: 0.743 | time: 16.20 minutes\n",
      "Epoch: 140/14999 | Loss: 0.0005 | Episodes: 29 | Win count: 105 | Win rate: 0.745 | time: 16.26 minutes\n",
      "Epoch: 141/14999 | Loss: 0.0003 | Episodes: 5 | Win count: 106 | Win rate: 0.746 | time: 16.27 minutes\n",
      "Epoch: 142/14999 | Loss: 0.0005 | Episodes: 5 | Win count: 107 | Win rate: 0.748 | time: 16.28 minutes\n",
      "Epoch: 143/14999 | Loss: 0.0011 | Episodes: 23 | Win count: 108 | Win rate: 0.750 | time: 16.32 minutes\n",
      "Epoch: 144/14999 | Loss: 0.0008 | Episodes: 136 | Win count: 109 | Win rate: 0.752 | time: 16.58 minutes\n",
      "Epoch: 145/14999 | Loss: 0.0006 | Episodes: 15 | Win count: 110 | Win rate: 0.753 | time: 16.61 minutes\n",
      "Epoch: 146/14999 | Loss: 0.0004 | Episodes: 57 | Win count: 111 | Win rate: 0.755 | time: 16.73 minutes\n",
      "Epoch: 147/14999 | Loss: 0.0007 | Episodes: 32 | Win count: 112 | Win rate: 0.757 | time: 16.79 minutes\n",
      "Epoch: 148/14999 | Loss: 0.0006 | Episodes: 71 | Win count: 113 | Win rate: 0.758 | time: 16.93 minutes\n",
      "Epoch: 149/14999 | Loss: 0.0010 | Episodes: 36 | Win count: 114 | Win rate: 0.760 | time: 17.00 minutes\n",
      "Epoch: 150/14999 | Loss: 0.0007 | Episodes: 47 | Win count: 115 | Win rate: 0.762 | time: 17.09 minutes\n",
      "Epoch: 151/14999 | Loss: 0.0006 | Episodes: 16 | Win count: 116 | Win rate: 0.763 | time: 17.11 minutes\n",
      "Epoch: 152/14999 | Loss: 0.0005 | Episodes: 103 | Win count: 117 | Win rate: 0.765 | time: 17.31 minutes\n",
      "Epoch: 153/14999 | Loss: 0.0006 | Episodes: 56 | Win count: 118 | Win rate: 0.766 | time: 17.42 minutes\n",
      "Epoch: 154/14999 | Loss: 0.0006 | Episodes: 44 | Win count: 119 | Win rate: 0.768 | time: 17.50 minutes\n",
      "Epoch: 155/14999 | Loss: 0.0008 | Episodes: 7 | Win count: 120 | Win rate: 0.769 | time: 17.51 minutes\n",
      "Epoch: 156/14999 | Loss: 0.0009 | Episodes: 35 | Win count: 121 | Win rate: 0.771 | time: 17.59 minutes\n",
      "Epoch: 157/14999 | Loss: 0.0006 | Episodes: 32 | Win count: 122 | Win rate: 0.772 | time: 17.65 minutes\n",
      "Epoch: 158/14999 | Loss: 0.0008 | Episodes: 33 | Win count: 123 | Win rate: 0.774 | time: 17.72 minutes\n",
      "Epoch: 159/14999 | Loss: 0.0008 | Episodes: 2 | Win count: 124 | Win rate: 0.775 | time: 17.73 minutes\n",
      "Epoch: 160/14999 | Loss: 0.0012 | Episodes: 16 | Win count: 125 | Win rate: 0.776 | time: 17.77 minutes\n",
      "Epoch: 161/14999 | Loss: 0.0010 | Episodes: 33 | Win count: 126 | Win rate: 0.778 | time: 17.83 minutes\n",
      "Epoch: 162/14999 | Loss: 0.0009 | Episodes: 13 | Win count: 127 | Win rate: 0.779 | time: 17.86 minutes\n",
      "Epoch: 163/14999 | Loss: 0.0006 | Episodes: 26 | Win count: 128 | Win rate: 0.780 | time: 17.93 minutes\n",
      "Epoch: 164/14999 | Loss: 0.0000 | Episodes: 0 | Win count: 128 | Win rate: 0.780 | time: 17.94 minutes\n",
      "Epoch: 165/14999 | Loss: 0.0007 | Episodes: 90 | Win count: 129 | Win rate: 0.782 | time: 18.12 minutes\n",
      "Epoch: 166/14999 | Loss: 0.0012 | Episodes: 27 | Win count: 130 | Win rate: 0.783 | time: 18.18 minutes\n",
      "Epoch: 167/14999 | Loss: 0.0007 | Episodes: 31 | Win count: 131 | Win rate: 0.784 | time: 18.25 minutes\n",
      "Epoch: 168/14999 | Loss: 0.0003 | Episodes: 6 | Win count: 132 | Win rate: 0.786 | time: 18.27 minutes\n",
      "Epoch: 169/14999 | Loss: 0.0007 | Episodes: 14 | Win count: 133 | Win rate: 0.787 | time: 18.31 minutes\n",
      "Epoch: 170/14999 | Loss: 0.0009 | Episodes: 16 | Win count: 134 | Win rate: 0.788 | time: 18.34 minutes\n",
      "Epoch: 171/14999 | Loss: 0.0014 | Episodes: 16 | Win count: 135 | Win rate: 0.789 | time: 18.37 minutes\n",
      "Epoch: 172/14999 | Loss: 0.0004 | Episodes: 8 | Win count: 136 | Win rate: 0.791 | time: 18.39 minutes\n",
      "Epoch: 173/14999 | Loss: 0.0010 | Episodes: 67 | Win count: 137 | Win rate: 0.792 | time: 18.53 minutes\n",
      "Epoch: 174/14999 | Loss: 0.0003 | Episodes: 11 | Win count: 138 | Win rate: 0.793 | time: 18.56 minutes\n",
      "Epoch: 175/14999 | Loss: 0.0008 | Episodes: 27 | Win count: 139 | Win rate: 0.794 | time: 18.61 minutes\n",
      "Epoch: 176/14999 | Loss: 0.0010 | Episodes: 76 | Win count: 140 | Win rate: 0.795 | time: 18.76 minutes\n",
      "Epoch: 177/14999 | Loss: 0.0007 | Episodes: 14 | Win count: 141 | Win rate: 0.797 | time: 18.80 minutes\n",
      "Epoch: 178/14999 | Loss: 0.0005 | Episodes: 8 | Win count: 142 | Win rate: 0.798 | time: 18.82 minutes\n",
      "Epoch: 179/14999 | Loss: 0.0004 | Episodes: 25 | Win count: 143 | Win rate: 0.799 | time: 18.87 minutes\n",
      "Epoch: 180/14999 | Loss: 0.0008 | Episodes: 1 | Win count: 144 | Win rate: 0.800 | time: 18.88 minutes\n",
      "Epoch: 181/14999 | Loss: 0.0005 | Episodes: 33 | Win count: 145 | Win rate: 0.801 | time: 18.95 minutes\n",
      "Epoch: 182/14999 | Loss: 0.0012 | Episodes: 30 | Win count: 146 | Win rate: 0.802 | time: 19.01 minutes\n",
      "Epoch: 183/14999 | Loss: 0.0007 | Episodes: 16 | Win count: 147 | Win rate: 0.803 | time: 19.04 minutes\n",
      "Epoch: 184/14999 | Loss: 0.0003 | Episodes: 19 | Win count: 148 | Win rate: 0.804 | time: 19.09 minutes\n",
      "Epoch: 185/14999 | Loss: 0.0004 | Episodes: 18 | Win count: 149 | Win rate: 0.805 | time: 19.13 minutes\n",
      "Epoch: 186/14999 | Loss: 0.0015 | Episodes: 12 | Win count: 150 | Win rate: 0.806 | time: 19.16 minutes\n",
      "Epoch: 187/14999 | Loss: 0.0011 | Episodes: 143 | Win count: 150 | Win rate: 0.802 | time: 19.44 minutes\n",
      "Epoch: 188/14999 | Loss: 0.0010 | Episodes: 83 | Win count: 151 | Win rate: 0.803 | time: 19.61 minutes\n",
      "Epoch: 189/14999 | Loss: 0.0000 | Episodes: 0 | Win count: 151 | Win rate: 0.803 | time: 19.61 minutes\n",
      "Epoch: 190/14999 | Loss: 0.0004 | Episodes: 68 | Win count: 152 | Win rate: 0.804 | time: 19.74 minutes\n",
      "Epoch: 191/14999 | Loss: 0.0007 | Episodes: 6 | Win count: 153 | Win rate: 0.805 | time: 19.75 minutes\n",
      "Epoch: 192/14999 | Loss: 0.0010 | Episodes: 11 | Win count: 154 | Win rate: 0.806 | time: 19.78 minutes\n",
      "Epoch: 193/14999 | Loss: 0.0006 | Episodes: 14 | Win count: 155 | Win rate: 0.807 | time: 19.80 minutes\n",
      "Epoch: 194/14999 | Loss: 0.0011 | Episodes: 55 | Win count: 156 | Win rate: 0.808 | time: 19.91 minutes\n",
      "Epoch: 195/14999 | Loss: 0.0010 | Episodes: 1 | Win count: 157 | Win rate: 0.809 | time: 19.91 minutes\n",
      "Epoch: 196/14999 | Loss: 0.0004 | Episodes: 4 | Win count: 158 | Win rate: 0.810 | time: 19.92 minutes\n",
      "Epoch: 197/14999 | Loss: 0.0006 | Episodes: 19 | Win count: 159 | Win rate: 0.811 | time: 19.96 minutes\n",
      "Epoch: 198/14999 | Loss: 0.0006 | Episodes: 39 | Win count: 160 | Win rate: 0.812 | time: 20.04 minutes\n",
      "Epoch: 199/14999 | Loss: 0.0008 | Episodes: 28 | Win count: 161 | Win rate: 0.813 | time: 20.11 minutes\n",
      "Epoch: 200/14999 | Loss: 0.0013 | Episodes: 144 | Win count: 161 | Win rate: 0.809 | time: 20.39 minutes\n",
      "Epoch: 201/14999 | Loss: 0.0012 | Episodes: 37 | Win count: 162 | Win rate: 0.810 | time: 20.46 minutes\n",
      "Epoch: 202/14999 | Loss: 0.0002 | Episodes: 19 | Win count: 163 | Win rate: 0.811 | time: 20.50 minutes\n",
      "Epoch: 203/14999 | Loss: 0.0006 | Episodes: 54 | Win count: 164 | Win rate: 0.812 | time: 20.60 minutes\n",
      "Epoch: 204/14999 | Loss: 0.0005 | Episodes: 135 | Win count: 164 | Win rate: 0.808 | time: 20.85 minutes\n",
      "Epoch: 205/14999 | Loss: 0.0005 | Episodes: 23 | Win count: 165 | Win rate: 0.809 | time: 20.90 minutes\n",
      "Epoch: 206/14999 | Loss: 0.0002 | Episodes: 9 | Win count: 166 | Win rate: 0.810 | time: 20.91 minutes\n",
      "Epoch: 207/14999 | Loss: 0.0004 | Episodes: 33 | Win count: 167 | Win rate: 0.811 | time: 20.98 minutes\n",
      "Epoch: 208/14999 | Loss: 0.0003 | Episodes: 10 | Win count: 168 | Win rate: 0.812 | time: 21.00 minutes\n",
      "Epoch: 209/14999 | Loss: 0.0007 | Episodes: 145 | Win count: 168 | Win rate: 0.808 | time: 21.27 minutes\n",
      "Epoch: 210/14999 | Loss: 0.0005 | Episodes: 3 | Win count: 169 | Win rate: 0.809 | time: 21.27 minutes\n",
      "Epoch: 211/14999 | Loss: 0.0005 | Episodes: 138 | Win count: 170 | Win rate: 0.810 | time: 21.54 minutes\n",
      "Epoch: 212/14999 | Loss: 0.0008 | Episodes: 54 | Win count: 171 | Win rate: 0.810 | time: 21.65 minutes\n",
      "Epoch: 213/14999 | Loss: 0.0006 | Episodes: 100 | Win count: 172 | Win rate: 0.811 | time: 21.84 minutes\n",
      "Epoch: 214/14999 | Loss: 0.0004 | Episodes: 64 | Win count: 173 | Win rate: 0.812 | time: 21.96 minutes\n",
      "Epoch: 215/14999 | Loss: 0.0013 | Episodes: 7 | Win count: 174 | Win rate: 0.813 | time: 21.98 minutes\n",
      "Epoch: 216/14999 | Loss: 0.0010 | Episodes: 34 | Win count: 175 | Win rate: 0.814 | time: 22.05 minutes\n",
      "Epoch: 217/14999 | Loss: 0.0008 | Episodes: 1 | Win count: 176 | Win rate: 0.815 | time: 22.05 minutes\n",
      "Epoch: 218/14999 | Loss: 0.0013 | Episodes: 10 | Win count: 177 | Win rate: 0.816 | time: 22.07 minutes\n",
      "Epoch: 219/14999 | Loss: 0.0000 | Episodes: 0 | Win count: 177 | Win rate: 0.816 | time: 22.07 minutes\n",
      "Epoch: 220/14999 | Loss: 0.0006 | Episodes: 25 | Win count: 178 | Win rate: 0.817 | time: 22.12 minutes\n",
      "Epoch: 221/14999 | Loss: 0.0000 | Episodes: 0 | Win count: 178 | Win rate: 0.817 | time: 22.12 minutes\n",
      "Epoch: 222/14999 | Loss: 0.0007 | Episodes: 14 | Win count: 179 | Win rate: 0.817 | time: 22.14 minutes\n",
      "Epoch: 223/14999 | Loss: 0.0011 | Episodes: 16 | Win count: 180 | Win rate: 0.818 | time: 22.17 minutes\n",
      "Epoch: 224/14999 | Loss: 0.0012 | Episodes: 12 | Win count: 181 | Win rate: 0.819 | time: 22.19 minutes\n",
      "Epoch: 225/14999 | Loss: 0.0009 | Episodes: 38 | Win count: 182 | Win rate: 0.820 | time: 22.27 minutes\n",
      "Epoch: 226/14999 | Loss: 0.0012 | Episodes: 51 | Win count: 183 | Win rate: 0.821 | time: 22.36 minutes\n",
      "Epoch: 227/14999 | Loss: 0.0009 | Episodes: 35 | Win count: 184 | Win rate: 0.821 | time: 22.43 minutes\n",
      "Epoch: 228/14999 | Loss: 0.0009 | Episodes: 7 | Win count: 185 | Win rate: 0.822 | time: 22.44 minutes\n",
      "Epoch: 229/14999 | Loss: 0.0010 | Episodes: 37 | Win count: 186 | Win rate: 0.823 | time: 22.51 minutes\n",
      "Epoch: 230/14999 | Loss: 0.0012 | Episodes: 19 | Win count: 187 | Win rate: 0.824 | time: 22.55 minutes\n",
      "Epoch: 231/14999 | Loss: 0.0014 | Episodes: 69 | Win count: 188 | Win rate: 0.825 | time: 22.69 minutes\n",
      "Epoch: 232/14999 | Loss: 0.0011 | Episodes: 41 | Win count: 189 | Win rate: 0.825 | time: 22.77 minutes\n",
      "Epoch: 233/14999 | Loss: 0.0008 | Episodes: 34 | Win count: 190 | Win rate: 0.826 | time: 22.83 minutes\n",
      "Epoch: 234/14999 | Loss: 0.0006 | Episodes: 27 | Win count: 191 | Win rate: 0.827 | time: 22.89 minutes\n",
      "Epoch: 235/14999 | Loss: 0.0007 | Episodes: 17 | Win count: 192 | Win rate: 0.828 | time: 22.92 minutes\n",
      "Epoch: 236/14999 | Loss: 0.0006 | Episodes: 12 | Win count: 193 | Win rate: 0.828 | time: 22.94 minutes\n",
      "Epoch: 237/14999 | Loss: 0.0018 | Episodes: 148 | Win count: 194 | Win rate: 0.829 | time: 23.24 minutes\n",
      "Epoch: 238/14999 | Loss: 0.0014 | Episodes: 48 | Win count: 195 | Win rate: 0.830 | time: 23.32 minutes\n",
      "Epoch: 239/14999 | Loss: 0.0011 | Episodes: 39 | Win count: 196 | Win rate: 0.831 | time: 23.39 minutes\n",
      "Epoch: 240/14999 | Loss: 0.0010 | Episodes: 101 | Win count: 197 | Win rate: 0.831 | time: 23.58 minutes\n",
      "Epoch: 241/14999 | Loss: 0.0011 | Episodes: 4 | Win count: 198 | Win rate: 0.832 | time: 23.58 minutes\n",
      "Epoch: 242/14999 | Loss: 0.0010 | Episodes: 81 | Win count: 199 | Win rate: 0.833 | time: 23.73 minutes\n",
      "Epoch: 243/14999 | Loss: 0.0009 | Episodes: 20 | Win count: 200 | Win rate: 0.833 | time: 23.76 minutes\n",
      "Epoch: 244/14999 | Loss: 0.0006 | Episodes: 35 | Win count: 201 | Win rate: 0.834 | time: 23.83 minutes\n",
      "Epoch: 245/14999 | Loss: 0.0011 | Episodes: 21 | Win count: 202 | Win rate: 0.835 | time: 23.87 minutes\n",
      "Epoch: 246/14999 | Loss: 0.0008 | Episodes: 4 | Win count: 203 | Win rate: 0.835 | time: 23.87 minutes\n",
      "Epoch: 247/14999 | Loss: 0.0007 | Episodes: 7 | Win count: 204 | Win rate: 0.836 | time: 23.89 minutes\n",
      "Epoch: 248/14999 | Loss: 0.0011 | Episodes: 25 | Win count: 205 | Win rate: 0.837 | time: 23.94 minutes\n",
      "Epoch: 249/14999 | Loss: 0.0004 | Episodes: 71 | Win count: 206 | Win rate: 0.837 | time: 24.07 minutes\n",
      "Epoch: 250/14999 | Loss: 0.0011 | Episodes: 76 | Win count: 207 | Win rate: 0.838 | time: 24.21 minutes\n",
      "Epoch: 251/14999 | Loss: 0.0007 | Episodes: 5 | Win count: 208 | Win rate: 0.839 | time: 24.22 minutes\n",
      "Epoch: 252/14999 | Loss: 0.0008 | Episodes: 28 | Win count: 209 | Win rate: 0.839 | time: 24.27 minutes\n",
      "Epoch: 253/14999 | Loss: 0.0006 | Episodes: 33 | Win count: 210 | Win rate: 0.840 | time: 24.34 minutes\n",
      "Epoch: 254/14999 | Loss: 0.0005 | Episodes: 1 | Win count: 211 | Win rate: 0.841 | time: 24.34 minutes\n",
      "Epoch: 255/14999 | Loss: 0.0010 | Episodes: 30 | Win count: 212 | Win rate: 0.841 | time: 24.40 minutes\n",
      "Epoch: 256/14999 | Loss: 0.0008 | Episodes: 67 | Win count: 213 | Win rate: 0.842 | time: 24.53 minutes\n",
      "Epoch: 257/14999 | Loss: 0.0002 | Episodes: 12 | Win count: 214 | Win rate: 0.843 | time: 24.55 minutes\n",
      "Epoch: 258/14999 | Loss: 0.0010 | Episodes: 12 | Win count: 215 | Win rate: 0.843 | time: 24.58 minutes\n",
      "Epoch: 259/14999 | Loss: 0.0004 | Episodes: 51 | Win count: 216 | Win rate: 0.844 | time: 24.67 minutes\n",
      "Epoch: 260/14999 | Loss: 0.0007 | Episodes: 32 | Win count: 217 | Win rate: 0.844 | time: 24.74 minutes\n",
      "Epoch: 261/14999 | Loss: 0.0002 | Episodes: 31 | Win count: 218 | Win rate: 0.845 | time: 24.81 minutes\n",
      "Epoch: 262/14999 | Loss: 0.0010 | Episodes: 27 | Win count: 219 | Win rate: 0.846 | time: 24.86 minutes\n",
      "Epoch: 263/14999 | Loss: 0.0005 | Episodes: 10 | Win count: 220 | Win rate: 0.846 | time: 24.88 minutes\n",
      "Epoch: 264/14999 | Loss: 0.0006 | Episodes: 28 | Win count: 221 | Win rate: 0.847 | time: 24.95 minutes\n",
      "Epoch: 265/14999 | Loss: 0.0004 | Episodes: 22 | Win count: 222 | Win rate: 0.847 | time: 24.99 minutes\n",
      "Epoch: 266/14999 | Loss: 0.0007 | Episodes: 11 | Win count: 223 | Win rate: 0.848 | time: 25.02 minutes\n",
      "Epoch: 267/14999 | Loss: 0.0007 | Episodes: 38 | Win count: 224 | Win rate: 0.848 | time: 25.09 minutes\n",
      "Epoch: 268/14999 | Loss: 0.0003 | Episodes: 6 | Win count: 225 | Win rate: 0.849 | time: 25.11 minutes\n",
      "Epoch: 269/14999 | Loss: 0.0013 | Episodes: 26 | Win count: 226 | Win rate: 0.850 | time: 25.17 minutes\n",
      "Epoch: 270/14999 | Loss: 0.0004 | Episodes: 7 | Win count: 227 | Win rate: 0.850 | time: 25.18 minutes\n",
      "Epoch: 271/14999 | Loss: 0.0008 | Episodes: 4 | Win count: 228 | Win rate: 0.851 | time: 25.19 minutes\n",
      "Epoch: 272/14999 | Loss: 0.0008 | Episodes: 6 | Win count: 229 | Win rate: 0.851 | time: 25.21 minutes\n",
      "Epoch: 273/14999 | Loss: 0.0006 | Episodes: 1 | Win count: 230 | Win rate: 0.852 | time: 25.21 minutes\n",
      "Epoch: 274/14999 | Loss: 0.0010 | Episodes: 40 | Win count: 231 | Win rate: 0.852 | time: 25.29 minutes\n",
      "Epoch: 275/14999 | Loss: 0.0005 | Episodes: 8 | Win count: 232 | Win rate: 0.853 | time: 25.31 minutes\n",
      "Epoch: 276/14999 | Loss: 0.0006 | Episodes: 11 | Win count: 233 | Win rate: 0.853 | time: 25.34 minutes\n",
      "Epoch: 277/14999 | Loss: 0.0009 | Episodes: 8 | Win count: 234 | Win rate: 0.854 | time: 25.36 minutes\n",
      "Epoch: 278/14999 | Loss: 0.0005 | Episodes: 7 | Win count: 235 | Win rate: 0.855 | time: 25.38 minutes\n",
      "Epoch: 279/14999 | Loss: 0.0012 | Episodes: 9 | Win count: 236 | Win rate: 0.855 | time: 25.40 minutes\n",
      "Epoch: 280/14999 | Loss: 0.0004 | Episodes: 17 | Win count: 237 | Win rate: 0.856 | time: 25.44 minutes\n",
      "Epoch: 281/14999 | Loss: 0.0003 | Episodes: 11 | Win count: 238 | Win rate: 0.856 | time: 25.47 minutes\n",
      "Epoch: 282/14999 | Loss: 0.0005 | Episodes: 17 | Win count: 239 | Win rate: 0.857 | time: 25.51 minutes\n",
      "Epoch: 283/14999 | Loss: 0.0015 | Episodes: 33 | Win count: 240 | Win rate: 0.857 | time: 25.58 minutes\n",
      "Epoch: 284/14999 | Loss: 0.0005 | Episodes: 43 | Win count: 241 | Win rate: 0.858 | time: 25.67 minutes\n",
      "Epoch: 285/14999 | Loss: 0.0010 | Episodes: 30 | Win count: 242 | Win rate: 0.858 | time: 25.73 minutes\n",
      "Epoch: 286/14999 | Loss: 0.0004 | Episodes: 17 | Win count: 243 | Win rate: 0.859 | time: 25.77 minutes\n",
      "Epoch: 287/14999 | Loss: 0.0003 | Episodes: 12 | Win count: 244 | Win rate: 0.859 | time: 25.80 minutes\n",
      "Epoch: 288/14999 | Loss: 0.0004 | Episodes: 2 | Win count: 245 | Win rate: 0.860 | time: 25.81 minutes\n",
      "Epoch: 289/14999 | Loss: 0.0006 | Episodes: 11 | Win count: 246 | Win rate: 0.860 | time: 25.83 minutes\n",
      "Epoch: 290/14999 | Loss: 0.0008 | Episodes: 9 | Win count: 247 | Win rate: 0.861 | time: 25.85 minutes\n",
      "Epoch: 291/14999 | Loss: 0.0009 | Episodes: 63 | Win count: 248 | Win rate: 0.861 | time: 25.97 minutes\n",
      "Epoch: 292/14999 | Loss: 0.0007 | Episodes: 31 | Win count: 249 | Win rate: 0.862 | time: 26.04 minutes\n",
      "Epoch: 293/14999 | Loss: 0.0003 | Episodes: 8 | Win count: 250 | Win rate: 0.862 | time: 26.06 minutes\n",
      "Epoch: 294/14999 | Loss: 0.0002 | Episodes: 8 | Win count: 251 | Win rate: 0.863 | time: 26.08 minutes\n",
      "Epoch: 295/14999 | Loss: 0.0005 | Episodes: 25 | Win count: 252 | Win rate: 0.863 | time: 26.13 minutes\n",
      "Epoch: 296/14999 | Loss: 0.0004 | Episodes: 2 | Win count: 253 | Win rate: 0.863 | time: 26.13 minutes\n",
      "Epoch: 297/14999 | Loss: 0.0002 | Episodes: 8 | Win count: 254 | Win rate: 0.864 | time: 26.15 minutes\n",
      "Epoch: 298/14999 | Loss: 0.0003 | Episodes: 8 | Win count: 255 | Win rate: 0.864 | time: 26.17 minutes\n",
      "Epoch: 299/14999 | Loss: 0.0001 | Episodes: 26 | Win count: 256 | Win rate: 0.865 | time: 26.23 minutes\n",
      "Epoch: 300/14999 | Loss: 0.0001 | Episodes: 23 | Win count: 257 | Win rate: 0.865 | time: 26.28 minutes\n",
      "Epoch: 301/14999 | Loss: 0.0004 | Episodes: 13 | Win count: 258 | Win rate: 0.866 | time: 26.31 minutes\n",
      "Epoch: 302/14999 | Loss: 0.0001 | Episodes: 19 | Win count: 259 | Win rate: 0.866 | time: 26.35 minutes\n",
      "Epoch: 303/14999 | Loss: 0.0001 | Episodes: 6 | Win count: 260 | Win rate: 0.867 | time: 26.36 minutes\n",
      "Epoch: 304/14999 | Loss: 0.0006 | Episodes: 11 | Win count: 261 | Win rate: 0.867 | time: 26.39 minutes\n",
      "Epoch: 305/14999 | Loss: 0.0001 | Episodes: 23 | Win count: 262 | Win rate: 0.868 | time: 26.44 minutes\n",
      "Epoch: 306/14999 | Loss: 0.0003 | Episodes: 5 | Win count: 263 | Win rate: 0.868 | time: 26.45 minutes\n",
      "Epoch: 307/14999 | Loss: 0.0003 | Episodes: 17 | Win count: 264 | Win rate: 0.868 | time: 26.48 minutes\n",
      "Epoch: 308/14999 | Loss: 0.0001 | Episodes: 23 | Win count: 265 | Win rate: 0.869 | time: 26.53 minutes\n",
      "Epoch: 309/14999 | Loss: 0.0001 | Episodes: 14 | Win count: 266 | Win rate: 0.869 | time: 26.56 minutes\n",
      "Epoch: 310/14999 | Loss: 0.0006 | Episodes: 11 | Win count: 267 | Win rate: 0.870 | time: 26.59 minutes\n",
      "Epoch: 311/14999 | Loss: 0.0003 | Episodes: 17 | Win count: 268 | Win rate: 0.870 | time: 26.63 minutes\n",
      "Epoch: 312/14999 | Loss: 0.0005 | Episodes: 3 | Win count: 269 | Win rate: 0.871 | time: 26.64 minutes\n",
      "Epoch: 313/14999 | Loss: 0.0008 | Episodes: 16 | Win count: 270 | Win rate: 0.871 | time: 26.67 minutes\n",
      "Epoch: 314/14999 | Loss: 0.0004 | Episodes: 61 | Win count: 271 | Win rate: 0.871 | time: 26.78 minutes\n",
      "Epoch: 315/14999 | Loss: 0.0005 | Episodes: 44 | Win count: 272 | Win rate: 0.872 | time: 26.86 minutes\n",
      "Epoch: 316/14999 | Loss: 0.0007 | Episodes: 36 | Win count: 273 | Win rate: 0.872 | time: 26.93 minutes\n",
      "Epoch: 317/14999 | Loss: 0.0003 | Episodes: 32 | Win count: 274 | Win rate: 0.873 | time: 26.99 minutes\n",
      "Epoch: 318/14999 | Loss: 0.0007 | Episodes: 26 | Win count: 275 | Win rate: 0.873 | time: 27.04 minutes\n",
      "Epoch: 319/14999 | Loss: 0.0004 | Episodes: 29 | Win count: 276 | Win rate: 0.873 | time: 27.10 minutes\n",
      "Epoch: 320/14999 | Loss: 0.0009 | Episodes: 23 | Win count: 277 | Win rate: 0.874 | time: 27.14 minutes\n",
      "Epoch: 321/14999 | Loss: 0.0002 | Episodes: 21 | Win count: 278 | Win rate: 0.874 | time: 27.19 minutes\n",
      "Epoch: 322/14999 | Loss: 0.0003 | Episodes: 19 | Win count: 279 | Win rate: 0.875 | time: 27.22 minutes\n",
      "Epoch: 323/14999 | Loss: 0.0007 | Episodes: 20 | Win count: 280 | Win rate: 0.875 | time: 27.27 minutes\n",
      "Epoch: 324/14999 | Loss: 0.0008 | Episodes: 8 | Win count: 281 | Win rate: 0.875 | time: 27.28 minutes\n",
      "Epoch: 325/14999 | Loss: 0.0009 | Episodes: 23 | Win count: 282 | Win rate: 0.876 | time: 27.33 minutes\n",
      "Epoch: 326/14999 | Loss: 0.0007 | Episodes: 18 | Win count: 283 | Win rate: 0.876 | time: 27.37 minutes\n",
      "Epoch: 327/14999 | Loss: 0.0003 | Episodes: 18 | Win count: 284 | Win rate: 0.877 | time: 27.40 minutes\n",
      "Epoch: 328/14999 | Loss: 0.0002 | Episodes: 1 | Win count: 285 | Win rate: 0.877 | time: 27.41 minutes\n",
      "Epoch: 329/14999 | Loss: 0.0004 | Episodes: 16 | Win count: 286 | Win rate: 0.877 | time: 27.44 minutes\n",
      "Epoch: 330/14999 | Loss: 0.0007 | Episodes: 15 | Win count: 287 | Win rate: 0.878 | time: 27.48 minutes\n",
      "Epoch: 331/14999 | Loss: 0.0010 | Episodes: 42 | Win count: 288 | Win rate: 0.878 | time: 27.56 minutes\n",
      "Epoch: 332/14999 | Loss: 0.0009 | Episodes: 79 | Win count: 289 | Win rate: 0.878 | time: 27.71 minutes\n",
      "Epoch: 333/14999 | Loss: 0.0006 | Episodes: 9 | Win count: 290 | Win rate: 0.879 | time: 27.74 minutes\n",
      "Epoch: 334/14999 | Loss: 0.0005 | Episodes: 8 | Win count: 291 | Win rate: 0.879 | time: 27.76 minutes\n",
      "Epoch: 335/14999 | Loss: 0.0003 | Episodes: 46 | Win count: 292 | Win rate: 0.880 | time: 27.86 minutes\n",
      "Epoch: 336/14999 | Loss: 0.0002 | Episodes: 14 | Win count: 293 | Win rate: 0.880 | time: 27.90 minutes\n",
      "Epoch: 337/14999 | Loss: 0.0001 | Episodes: 11 | Win count: 294 | Win rate: 0.880 | time: 27.92 minutes\n",
      "Epoch: 338/14999 | Loss: 0.0009 | Episodes: 24 | Win count: 295 | Win rate: 0.881 | time: 27.97 minutes\n",
      "Epoch: 339/14999 | Loss: 0.0003 | Episodes: 73 | Win count: 296 | Win rate: 0.881 | time: 28.12 minutes\n",
      "Epoch: 340/14999 | Loss: 0.0005 | Episodes: 22 | Win count: 297 | Win rate: 0.881 | time: 28.16 minutes\n",
      "Epoch: 341/14999 | Loss: 0.0003 | Episodes: 25 | Win count: 298 | Win rate: 0.882 | time: 28.22 minutes\n",
      "Epoch: 342/14999 | Loss: 0.0009 | Episodes: 69 | Win count: 299 | Win rate: 0.882 | time: 28.35 minutes\n",
      "Epoch: 343/14999 | Loss: 0.0006 | Episodes: 8 | Win count: 300 | Win rate: 0.882 | time: 28.37 minutes\n",
      "Epoch: 344/14999 | Loss: 0.0003 | Episodes: 4 | Win count: 301 | Win rate: 0.883 | time: 28.38 minutes\n",
      "Epoch: 345/14999 | Loss: 0.0008 | Episodes: 152 | Win count: 302 | Win rate: 0.883 | time: 28.68 minutes\n",
      "Epoch: 346/14999 | Loss: 0.0006 | Episodes: 136 | Win count: 303 | Win rate: 0.883 | time: 28.95 minutes\n",
      "Epoch: 347/14999 | Loss: 0.0005 | Episodes: 29 | Win count: 304 | Win rate: 0.884 | time: 29.01 minutes\n",
      "Epoch: 348/14999 | Loss: 0.0005 | Episodes: 4 | Win count: 305 | Win rate: 0.884 | time: 29.02 minutes\n",
      "Epoch: 349/14999 | Loss: 0.0002 | Episodes: 2 | Win count: 306 | Win rate: 0.884 | time: 29.03 minutes\n",
      "Epoch: 350/14999 | Loss: 0.0009 | Episodes: 13 | Win count: 307 | Win rate: 0.885 | time: 29.06 minutes\n",
      "Epoch: 351/14999 | Loss: 0.0001 | Episodes: 8 | Win count: 308 | Win rate: 0.885 | time: 29.08 minutes\n",
      "Epoch: 352/14999 | Loss: 0.0000 | Episodes: 0 | Win count: 308 | Win rate: 0.885 | time: 29.09 minutes\n",
      "Epoch: 353/14999 | Loss: 0.0012 | Episodes: 13 | Win count: 309 | Win rate: 0.885 | time: 29.13 minutes\n",
      "Epoch: 354/14999 | Loss: 0.0006 | Episodes: 144 | Win count: 309 | Win rate: 0.883 | time: 29.40 minutes\n",
      "Epoch: 355/14999 | Loss: 0.0007 | Episodes: 9 | Win count: 310 | Win rate: 0.883 | time: 29.42 minutes\n",
      "Epoch: 356/14999 | Loss: 0.0010 | Episodes: 39 | Win count: 311 | Win rate: 0.884 | time: 29.49 minutes\n",
      "Epoch: 357/14999 | Loss: 0.0014 | Episodes: 10 | Win count: 312 | Win rate: 0.884 | time: 29.51 minutes\n",
      "Epoch: 358/14999 | Loss: 0.0011 | Episodes: 1 | Win count: 313 | Win rate: 0.884 | time: 29.51 minutes\n",
      "Epoch: 359/14999 | Loss: 0.0006 | Episodes: 11 | Win count: 314 | Win rate: 0.885 | time: 29.53 minutes\n",
      "Epoch: 360/14999 | Loss: 0.0004 | Episodes: 27 | Win count: 315 | Win rate: 0.885 | time: 29.58 minutes\n",
      "Epoch: 361/14999 | Loss: 0.0005 | Episodes: 27 | Win count: 316 | Win rate: 0.885 | time: 29.63 minutes\n",
      "Epoch: 362/14999 | Loss: 0.0000 | Episodes: 0 | Win count: 316 | Win rate: 0.885 | time: 29.63 minutes\n",
      "Epoch: 363/14999 | Loss: 0.0005 | Episodes: 5 | Win count: 317 | Win rate: 0.885 | time: 29.63 minutes\n",
      "Epoch: 364/14999 | Loss: 0.0008 | Episodes: 14 | Win count: 318 | Win rate: 0.886 | time: 29.66 minutes\n",
      "Epoch: 365/14999 | Loss: 0.0005 | Episodes: 43 | Win count: 319 | Win rate: 0.886 | time: 29.74 minutes\n",
      "Epoch: 366/14999 | Loss: 0.0006 | Episodes: 1 | Win count: 320 | Win rate: 0.886 | time: 29.74 minutes\n",
      "Epoch: 367/14999 | Loss: 0.0004 | Episodes: 30 | Win count: 321 | Win rate: 0.887 | time: 29.80 minutes\n",
      "Epoch: 368/14999 | Loss: 0.0010 | Episodes: 23 | Win count: 322 | Win rate: 0.887 | time: 29.84 minutes\n",
      "Epoch: 369/14999 | Loss: 0.0002 | Episodes: 3 | Win count: 323 | Win rate: 0.887 | time: 29.85 minutes\n",
      "Epoch: 370/14999 | Loss: 0.0006 | Episodes: 27 | Win count: 324 | Win rate: 0.888 | time: 29.91 minutes\n",
      "Epoch: 371/14999 | Loss: 0.0004 | Episodes: 29 | Win count: 325 | Win rate: 0.888 | time: 29.97 minutes\n",
      "Epoch: 372/14999 | Loss: 0.0011 | Episodes: 19 | Win count: 326 | Win rate: 0.888 | time: 30.01 minutes\n",
      "Epoch: 373/14999 | Loss: 0.0011 | Episodes: 15 | Win count: 327 | Win rate: 0.889 | time: 30.04 minutes\n",
      "Epoch: 374/14999 | Loss: 0.0008 | Episodes: 22 | Win count: 328 | Win rate: 0.889 | time: 30.09 minutes\n",
      "Epoch: 375/14999 | Loss: 0.0007 | Episodes: 3 | Win count: 329 | Win rate: 0.889 | time: 30.10 minutes\n",
      "Epoch: 376/14999 | Loss: 0.0006 | Episodes: 3 | Win count: 330 | Win rate: 0.889 | time: 30.10 minutes\n",
      "Epoch: 377/14999 | Loss: 0.0007 | Episodes: 29 | Win count: 331 | Win rate: 0.890 | time: 30.16 minutes\n",
      "Epoch: 378/14999 | Loss: 0.0009 | Episodes: 7 | Win count: 332 | Win rate: 0.890 | time: 30.17 minutes\n",
      "Epoch: 379/14999 | Loss: 0.0004 | Episodes: 62 | Win count: 333 | Win rate: 0.890 | time: 30.29 minutes\n",
      "Epoch: 380/14999 | Loss: 0.0001 | Episodes: 16 | Win count: 334 | Win rate: 0.891 | time: 30.31 minutes\n",
      "Epoch: 381/14999 | Loss: 0.0004 | Episodes: 11 | Win count: 335 | Win rate: 0.891 | time: 30.33 minutes\n",
      "Epoch: 382/14999 | Loss: 0.0008 | Episodes: 31 | Win count: 336 | Win rate: 0.891 | time: 30.39 minutes\n",
      "Epoch: 383/14999 | Loss: 0.0008 | Episodes: 43 | Win count: 337 | Win rate: 0.892 | time: 30.48 minutes\n",
      "Epoch: 384/14999 | Loss: 0.0004 | Episodes: 2 | Win count: 338 | Win rate: 0.892 | time: 30.48 minutes\n",
      "Epoch: 385/14999 | Loss: 0.0002 | Episodes: 16 | Win count: 339 | Win rate: 0.892 | time: 30.51 minutes\n",
      "Epoch: 386/14999 | Loss: 0.0003 | Episodes: 35 | Win count: 340 | Win rate: 0.892 | time: 30.58 minutes\n",
      "Epoch: 387/14999 | Loss: 0.0002 | Episodes: 13 | Win count: 341 | Win rate: 0.893 | time: 30.61 minutes\n",
      "Epoch: 388/14999 | Loss: 0.0007 | Episodes: 9 | Win count: 342 | Win rate: 0.893 | time: 30.62 minutes\n",
      "Epoch: 389/14999 | Loss: 0.0004 | Episodes: 11 | Win count: 343 | Win rate: 0.893 | time: 30.65 minutes\n",
      "Epoch: 390/14999 | Loss: 0.0004 | Episodes: 18 | Win count: 344 | Win rate: 0.894 | time: 30.69 minutes\n",
      "Epoch: 391/14999 | Loss: 0.0001 | Episodes: 6 | Win count: 345 | Win rate: 0.894 | time: 30.70 minutes\n",
      "Epoch: 392/14999 | Loss: 0.0001 | Episodes: 3 | Win count: 346 | Win rate: 0.894 | time: 30.71 minutes\n",
      "Epoch: 393/14999 | Loss: 0.0004 | Episodes: 17 | Win count: 347 | Win rate: 0.894 | time: 30.75 minutes\n",
      "Epoch: 394/14999 | Loss: 0.0002 | Episodes: 26 | Win count: 348 | Win rate: 0.895 | time: 30.80 minutes\n",
      "Epoch: 395/14999 | Loss: 0.0001 | Episodes: 16 | Win count: 349 | Win rate: 0.895 | time: 30.85 minutes\n",
      "Epoch: 396/14999 | Loss: 0.0000 | Episodes: 0 | Win count: 349 | Win rate: 0.895 | time: 30.85 minutes\n",
      "Epoch: 397/14999 | Loss: 0.0009 | Episodes: 10 | Win count: 350 | Win rate: 0.895 | time: 30.87 minutes\n",
      "Epoch: 398/14999 | Loss: 0.0003 | Episodes: 30 | Win count: 351 | Win rate: 0.895 | time: 30.94 minutes\n",
      "Epoch: 399/14999 | Loss: 0.0005 | Episodes: 14 | Win count: 352 | Win rate: 0.896 | time: 30.97 minutes\n",
      "Epoch: 400/14999 | Loss: 0.0007 | Episodes: 24 | Win count: 353 | Win rate: 0.896 | time: 31.02 minutes\n",
      "Epoch: 401/14999 | Loss: 0.0005 | Episodes: 3 | Win count: 354 | Win rate: 0.896 | time: 31.03 minutes\n",
      "Epoch: 402/14999 | Loss: 0.0007 | Episodes: 28 | Win count: 355 | Win rate: 0.896 | time: 31.10 minutes\n",
      "Epoch: 403/14999 | Loss: 0.0006 | Episodes: 5 | Win count: 356 | Win rate: 0.897 | time: 31.12 minutes\n",
      "Epoch: 404/14999 | Loss: 0.0006 | Episodes: 4 | Win count: 357 | Win rate: 0.897 | time: 31.13 minutes\n",
      "Epoch: 405/14999 | Loss: 0.0004 | Episodes: 19 | Win count: 358 | Win rate: 0.897 | time: 31.17 minutes\n",
      "Epoch: 406/14999 | Loss: 0.0019 | Episodes: 3 | Win count: 359 | Win rate: 0.897 | time: 31.18 minutes\n",
      "Epoch: 407/14999 | Loss: 0.0011 | Episodes: 33 | Win count: 360 | Win rate: 0.898 | time: 31.24 minutes\n",
      "Epoch: 408/14999 | Loss: 0.0010 | Episodes: 3 | Win count: 361 | Win rate: 0.898 | time: 31.25 minutes\n",
      "Epoch: 409/14999 | Loss: 0.0005 | Episodes: 27 | Win count: 362 | Win rate: 0.898 | time: 31.31 minutes\n",
      "Epoch: 410/14999 | Loss: 0.0005 | Episodes: 46 | Win count: 363 | Win rate: 0.899 | time: 31.41 minutes\n",
      "Epoch: 411/14999 | Loss: 0.0000 | Episodes: 10 | Win count: 364 | Win rate: 0.899 | time: 31.43 minutes\n",
      "Epoch: 412/14999 | Loss: 0.0003 | Episodes: 31 | Win count: 365 | Win rate: 0.899 | time: 31.49 minutes\n",
      "Epoch: 413/14999 | Loss: 0.0001 | Episodes: 19 | Win count: 366 | Win rate: 0.899 | time: 31.53 minutes\n",
      "Epoch: 414/14999 | Loss: 0.0002 | Episodes: 7 | Win count: 367 | Win rate: 0.900 | time: 31.55 minutes\n",
      "Epoch: 415/14999 | Loss: 0.0003 | Episodes: 18 | Win count: 368 | Win rate: 0.900 | time: 31.58 minutes\n",
      "Epoch: 416/14999 | Loss: 0.0001 | Episodes: 11 | Win count: 369 | Win rate: 0.900 | time: 31.61 minutes\n",
      "Epoch: 417/14999 | Loss: 0.0007 | Episodes: 59 | Win count: 370 | Win rate: 0.900 | time: 31.71 minutes\n",
      "Epoch: 418/14999 | Loss: 0.0006 | Episodes: 9 | Win count: 371 | Win rate: 0.900 | time: 31.73 minutes\n",
      "Epoch: 419/14999 | Loss: 0.0009 | Episodes: 139 | Win count: 371 | Win rate: 0.898 | time: 32.01 minutes\n",
      "Epoch: 420/14999 | Loss: 0.0004 | Episodes: 43 | Win count: 372 | Win rate: 0.899 | time: 32.09 minutes\n",
      "Epoch: 421/14999 | Loss: 0.0002 | Episodes: 25 | Win count: 373 | Win rate: 0.899 | time: 32.14 minutes\n",
      "Epoch: 422/14999 | Loss: 0.0004 | Episodes: 19 | Win count: 374 | Win rate: 0.899 | time: 32.18 minutes\n",
      "Epoch: 423/14999 | Loss: 0.0004 | Episodes: 3 | Win count: 375 | Win rate: 0.899 | time: 32.18 minutes\n",
      "Epoch: 424/14999 | Loss: 0.0005 | Episodes: 136 | Win count: 375 | Win rate: 0.897 | time: 32.44 minutes\n",
      "Epoch: 425/14999 | Loss: 0.0005 | Episodes: 20 | Win count: 376 | Win rate: 0.897 | time: 32.48 minutes\n",
      "Epoch: 426/14999 | Loss: 0.0005 | Episodes: 11 | Win count: 377 | Win rate: 0.898 | time: 32.50 minutes\n",
      "Epoch: 427/14999 | Loss: 0.0006 | Episodes: 82 | Win count: 378 | Win rate: 0.898 | time: 32.67 minutes\n",
      "Epoch: 428/14999 | Loss: 0.0005 | Episodes: 32 | Win count: 379 | Win rate: 0.898 | time: 32.73 minutes\n",
      "Epoch: 429/14999 | Loss: 0.0005 | Episodes: 5 | Win count: 380 | Win rate: 0.898 | time: 32.74 minutes\n",
      "Epoch: 430/14999 | Loss: 0.0005 | Episodes: 3 | Win count: 381 | Win rate: 0.899 | time: 32.74 minutes\n",
      "Epoch: 431/14999 | Loss: 0.0003 | Episodes: 60 | Win count: 382 | Win rate: 0.899 | time: 32.86 minutes\n",
      "Epoch: 432/14999 | Loss: 0.0003 | Episodes: 18 | Win count: 383 | Win rate: 0.899 | time: 32.90 minutes\n",
      "Epoch: 433/14999 | Loss: 0.0010 | Episodes: 25 | Win count: 384 | Win rate: 0.899 | time: 32.95 minutes\n",
      "Epoch: 434/14999 | Loss: 0.0009 | Episodes: 6 | Win count: 385 | Win rate: 0.900 | time: 32.96 minutes\n",
      "Epoch: 435/14999 | Loss: 0.0007 | Episodes: 9 | Win count: 386 | Win rate: 0.900 | time: 32.98 minutes\n",
      "Epoch: 436/14999 | Loss: 0.0008 | Episodes: 17 | Win count: 387 | Win rate: 0.900 | time: 33.02 minutes\n",
      "Epoch: 437/14999 | Loss: 0.0004 | Episodes: 7 | Win count: 388 | Win rate: 0.900 | time: 33.03 minutes\n",
      "Epoch: 438/14999 | Loss: 0.0009 | Episodes: 6 | Win count: 389 | Win rate: 0.900 | time: 33.04 minutes\n",
      "Epoch: 439/14999 | Loss: 0.0008 | Episodes: 35 | Win count: 390 | Win rate: 0.901 | time: 33.12 minutes\n",
      "Epoch: 440/14999 | Loss: 0.0006 | Episodes: 10 | Win count: 391 | Win rate: 0.901 | time: 33.14 minutes\n",
      "Epoch: 441/14999 | Loss: 0.0005 | Episodes: 25 | Win count: 392 | Win rate: 0.901 | time: 33.20 minutes\n",
      "Epoch: 442/14999 | Loss: 0.0005 | Episodes: 12 | Win count: 393 | Win rate: 0.901 | time: 33.22 minutes\n",
      "Epoch: 443/14999 | Loss: 0.0005 | Episodes: 32 | Win count: 394 | Win rate: 0.902 | time: 33.28 minutes\n",
      "Epoch: 444/14999 | Loss: 0.0007 | Episodes: 7 | Win count: 395 | Win rate: 0.902 | time: 33.29 minutes\n",
      "Epoch: 445/14999 | Loss: 0.0007 | Episodes: 23 | Win count: 396 | Win rate: 0.902 | time: 33.34 minutes\n",
      "Epoch: 446/14999 | Loss: 0.0008 | Episodes: 11 | Win count: 397 | Win rate: 0.902 | time: 33.36 minutes\n",
      "Epoch: 447/14999 | Loss: 0.0009 | Episodes: 6 | Win count: 398 | Win rate: 0.902 | time: 33.37 minutes\n",
      "Epoch: 448/14999 | Loss: 0.0007 | Episodes: 5 | Win count: 399 | Win rate: 0.903 | time: 33.38 minutes\n",
      "Epoch: 449/14999 | Loss: 0.0007 | Episodes: 11 | Win count: 400 | Win rate: 0.903 | time: 33.40 minutes\n",
      "Epoch: 450/14999 | Loss: 0.0004 | Episodes: 25 | Win count: 401 | Win rate: 0.903 | time: 33.45 minutes\n",
      "Epoch: 451/14999 | Loss: 0.0005 | Episodes: 20 | Win count: 402 | Win rate: 0.903 | time: 33.49 minutes\n",
      "Epoch: 452/14999 | Loss: 0.0003 | Episodes: 21 | Win count: 403 | Win rate: 0.904 | time: 33.53 minutes\n",
      "Epoch: 453/14999 | Loss: 0.0007 | Episodes: 21 | Win count: 404 | Win rate: 0.904 | time: 33.57 minutes\n",
      "Epoch: 454/14999 | Loss: 0.0003 | Episodes: 28 | Win count: 405 | Win rate: 0.904 | time: 33.62 minutes\n",
      "Epoch: 455/14999 | Loss: 0.0001 | Episodes: 36 | Win count: 406 | Win rate: 0.904 | time: 33.69 minutes\n",
      "Epoch: 456/14999 | Loss: 0.0001 | Episodes: 19 | Win count: 407 | Win rate: 0.904 | time: 33.72 minutes\n",
      "Epoch: 457/14999 | Loss: 0.0005 | Episodes: 20 | Win count: 408 | Win rate: 0.905 | time: 33.77 minutes\n",
      "Epoch: 458/14999 | Loss: 0.0001 | Episodes: 44 | Win count: 409 | Win rate: 0.905 | time: 33.87 minutes\n",
      "Epoch: 459/14999 | Loss: 0.0002 | Episodes: 9 | Win count: 410 | Win rate: 0.905 | time: 33.90 minutes\n",
      "Epoch: 460/14999 | Loss: 0.0002 | Episodes: 20 | Win count: 411 | Win rate: 0.905 | time: 33.95 minutes\n",
      "Epoch: 461/14999 | Loss: 0.0001 | Episodes: 7 | Win count: 412 | Win rate: 0.905 | time: 33.96 minutes\n",
      "Epoch: 462/14999 | Loss: 0.0002 | Episodes: 3 | Win count: 413 | Win rate: 0.906 | time: 33.98 minutes\n",
      "Epoch: 463/14999 | Loss: 0.0007 | Episodes: 26 | Win count: 414 | Win rate: 0.906 | time: 34.03 minutes\n",
      "Epoch: 464/14999 | Loss: 0.0005 | Episodes: 4 | Win count: 415 | Win rate: 0.906 | time: 34.04 minutes\n",
      "Epoch: 465/14999 | Loss: 0.0001 | Episodes: 6 | Win count: 416 | Win rate: 0.906 | time: 34.06 minutes\n",
      "Epoch: 466/14999 | Loss: 0.0002 | Episodes: 22 | Win count: 417 | Win rate: 0.907 | time: 34.12 minutes\n",
      "Epoch: 467/14999 | Loss: 0.0001 | Episodes: 19 | Win count: 418 | Win rate: 0.907 | time: 34.16 minutes\n",
      "Epoch: 468/14999 | Loss: 0.0001 | Episodes: 1 | Win count: 419 | Win rate: 0.907 | time: 34.17 minutes\n",
      "Epoch: 469/14999 | Loss: 0.0003 | Episodes: 25 | Win count: 420 | Win rate: 0.907 | time: 34.22 minutes\n",
      "Epoch: 470/14999 | Loss: 0.0000 | Episodes: 0 | Win count: 420 | Win rate: 0.907 | time: 34.23 minutes\n",
      "Epoch: 471/14999 | Loss: 0.0000 | Episodes: 11 | Win count: 421 | Win rate: 0.907 | time: 34.25 minutes\n",
      "Epoch: 472/14999 | Loss: 0.0003 | Episodes: 15 | Win count: 422 | Win rate: 0.908 | time: 34.28 minutes\n",
      "Epoch: 473/14999 | Loss: 0.0004 | Episodes: 10 | Win count: 423 | Win rate: 0.908 | time: 34.31 minutes\n",
      "Epoch: 474/14999 | Loss: 0.0003 | Episodes: 4 | Win count: 424 | Win rate: 0.908 | time: 34.31 minutes\n",
      "Epoch: 475/14999 | Loss: 0.0000 | Episodes: 0 | Win count: 424 | Win rate: 0.908 | time: 34.32 minutes\n",
      "Epoch: 476/14999 | Loss: 0.0000 | Episodes: 5 | Win count: 425 | Win rate: 0.908 | time: 34.33 minutes\n",
      "Epoch: 477/14999 | Loss: 0.0003 | Episodes: 21 | Win count: 426 | Win rate: 0.908 | time: 34.38 minutes\n",
      "Epoch: 478/14999 | Loss: 0.0002 | Episodes: 32 | Win count: 427 | Win rate: 0.909 | time: 34.45 minutes\n",
      "Epoch: 479/14999 | Loss: 0.0004 | Episodes: 39 | Win count: 428 | Win rate: 0.909 | time: 34.54 minutes\n",
      "Epoch: 480/14999 | Loss: 0.0009 | Episodes: 23 | Win count: 429 | Win rate: 0.909 | time: 34.59 minutes\n",
      "Epoch: 481/14999 | Loss: 0.0005 | Episodes: 47 | Win count: 430 | Win rate: 0.909 | time: 34.70 minutes\n",
      "Epoch: 482/14999 | Loss: 0.0006 | Episodes: 54 | Win count: 431 | Win rate: 0.909 | time: 34.81 minutes\n",
      "Epoch: 483/14999 | Loss: 0.0003 | Episodes: 35 | Win count: 432 | Win rate: 0.909 | time: 34.88 minutes\n",
      "Epoch: 484/14999 | Loss: 0.0004 | Episodes: 4 | Win count: 433 | Win rate: 0.910 | time: 34.89 minutes\n",
      "Epoch: 485/14999 | Loss: 0.0004 | Episodes: 52 | Win count: 434 | Win rate: 0.910 | time: 35.01 minutes\n",
      "Epoch: 486/14999 | Loss: 0.0005 | Episodes: 22 | Win count: 435 | Win rate: 0.910 | time: 35.06 minutes\n",
      "Epoch: 487/14999 | Loss: 0.0007 | Episodes: 27 | Win count: 436 | Win rate: 0.910 | time: 35.12 minutes\n",
      "Epoch: 488/14999 | Loss: 0.0000 | Episodes: 0 | Win count: 436 | Win rate: 0.910 | time: 35.12 minutes\n",
      "Epoch: 489/14999 | Loss: 0.0003 | Episodes: 2 | Win count: 437 | Win rate: 0.910 | time: 35.13 minutes\n",
      "Epoch: 490/14999 | Loss: 0.0002 | Episodes: 16 | Win count: 438 | Win rate: 0.911 | time: 35.17 minutes\n",
      "Epoch: 491/14999 | Loss: 0.0002 | Episodes: 19 | Win count: 439 | Win rate: 0.911 | time: 35.21 minutes\n",
      "Epoch: 492/14999 | Loss: 0.0007 | Episodes: 56 | Win count: 440 | Win rate: 0.911 | time: 35.32 minutes\n",
      "Epoch: 493/14999 | Loss: 0.0006 | Episodes: 23 | Win count: 441 | Win rate: 0.911 | time: 35.37 minutes\n",
      "Epoch: 494/14999 | Loss: 0.0010 | Episodes: 3 | Win count: 442 | Win rate: 0.911 | time: 35.38 minutes\n",
      "Epoch: 495/14999 | Loss: 0.0006 | Episodes: 33 | Win count: 443 | Win rate: 0.912 | time: 35.46 minutes\n",
      "Epoch: 496/14999 | Loss: 0.0006 | Episodes: 21 | Win count: 444 | Win rate: 0.912 | time: 35.50 minutes\n",
      "Epoch: 497/14999 | Loss: 0.0007 | Episodes: 50 | Win count: 445 | Win rate: 0.912 | time: 35.60 minutes\n",
      "Epoch: 498/14999 | Loss: 0.0011 | Episodes: 1 | Win count: 446 | Win rate: 0.912 | time: 35.61 minutes\n",
      "Reached 100% win rate at epoch: 498\n",
      "n_epoch: 498, max_mem: 512, data: 32, time: 35.62 minutes\n"
     ]
    },
    {
     "data": {
      "text/plain": [
       "2137.102291"
      ]
     },
     "execution_count": 22,
     "metadata": {},
     "output_type": "execute_result"
    }
   ],
   "source": [
    "model = build_model(maze)\n",
    "qtrain(model, maze, epochs=1000, max_memory=8*maze.size, data_size=32)"
   ]
  },
  {
   "cell_type": "markdown",
   "metadata": {},
   "source": [
    "This cell will check to see if the model passes the completion check. Note: This could take several minutes."
   ]
  },
  {
   "cell_type": "code",
   "execution_count": 23,
   "metadata": {
    "scrolled": true
   },
   "outputs": [
    {
     "data": {
      "text/plain": [
       "<matplotlib.image.AxesImage at 0x2620a6a46c8>"
      ]
     },
     "execution_count": 23,
     "metadata": {},
     "output_type": "execute_result"
    },
    {
     "data": {
      "image/png": "[encoded data removed]",
      "text/plain": [
       "<Figure size 432x288 with 1 Axes>"
      ]
     },
     "metadata": {
      "needs_background": "light"
     },
     "output_type": "display_data"
    }
   ],
   "source": [
    "completion_check(model, qmaze)\n",
    "show(qmaze)"
   ]
  },
  {
   "cell_type": "markdown",
   "metadata": {},
   "source": [
    "This cell will test your model for one game. It will start the pirate at the top-left corner and run play_game. The agent should find a path from the starting position to the target (treasure). The treasure is located in the bottom-right corner."
   ]
  },
  {
   "cell_type": "code",
   "execution_count": 24,
   "metadata": {
    "scrolled": true
   },
   "outputs": [
    {
     "data": {
      "text/plain": [
       "<matplotlib.image.AxesImage at 0x2620c106888>"
      ]
     },
     "execution_count": 24,
     "metadata": {},
     "output_type": "execute_result"
    },
    {
     "data": {
      "image/png": "[encoded data removed]",
      "text/plain": [
       "<Figure size 432x288 with 1 Axes>"
      ]
     },
     "metadata": {
      "needs_background": "light"
     },
     "output_type": "display_data"
    }
   ],
   "source": [
    "pirate_start = (0, 0)\n",
    "play_game(model, qmaze, pirate_start)\n",
    "show(qmaze)"
   ]
  },
  {
   "cell_type": "markdown",
   "metadata": {},
   "source": [
    "## Save and Submit Your Work\n",
    "After you have finished creating the code for your notebook, save your work. Make sure that your notebook contains your name in the filename (e.g. Doe_Jane_ProjectTwo.ipynb). This will help your instructor access and grade your work easily. Download a copy of your IPYNB file and submit it to Brightspace. Refer to the Jupyter Notebook in Apporto Tutorial if you need help with these tasks."
   ]
  }
 ],
 "metadata": {
  "kernelspec": {
   "display_name": "Python 3",
   "language": "python",
   "name": "python3"
  },
  "language_info": {
   "codemirror_mode": {
    "name": "ipython",
    "version": 3
   },
   "file_extension": ".py",
   "mimetype": "text/x-python",
   "name": "python",
   "nbconvert_exporter": "python",
   "pygments_lexer": "ipython3",
   "version": "3.7.4"
  }
 },
 "nbformat": 4,
 "nbformat_minor": 2
}
